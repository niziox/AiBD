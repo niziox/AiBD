{
 "cells": [
  {
   "cell_type": "code",
   "execution_count": 430,
   "id": "f8ffba6f",
   "metadata": {},
   "outputs": [],
   "source": [
    "import pandas as pd\n",
    "import numpy as np"
   ]
  },
  {
   "cell_type": "code",
   "execution_count": 431,
   "id": "2af14c98",
   "metadata": {},
   "outputs": [
    {
     "data": {
      "text/plain": "  iso2  year  new_sp  new_sp_m04  new_sp_m514  new_sp_m014  new_sp_m1524  \\\n0   AD  1989     NaN         NaN          NaN          NaN           NaN   \n1   AD  1990     NaN         NaN          NaN          NaN           NaN   \n2   AD  1991     NaN         NaN          NaN          NaN           NaN   \n3   AD  1992     NaN         NaN          NaN          NaN           NaN   \n4   AD  1993    15.0         NaN          NaN          NaN           NaN   \n\n   new_sp_m2534  new_sp_m3544  new_sp_m4554  ...  new_sp_f04  new_sp_f514  \\\n0           NaN           NaN           NaN  ...         NaN          NaN   \n1           NaN           NaN           NaN  ...         NaN          NaN   \n2           NaN           NaN           NaN  ...         NaN          NaN   \n3           NaN           NaN           NaN  ...         NaN          NaN   \n4           NaN           NaN           NaN  ...         NaN          NaN   \n\n   new_sp_f014  new_sp_f1524  new_sp_f2534  new_sp_f3544  new_sp_f4554  \\\n0          NaN           NaN           NaN           NaN           NaN   \n1          NaN           NaN           NaN           NaN           NaN   \n2          NaN           NaN           NaN           NaN           NaN   \n3          NaN           NaN           NaN           NaN           NaN   \n4          NaN           NaN           NaN           NaN           NaN   \n\n   new_sp_f5564  new_sp_f65  new_sp_fu  \n0           NaN         NaN        NaN  \n1           NaN         NaN        NaN  \n2           NaN         NaN        NaN  \n3           NaN         NaN        NaN  \n4           NaN         NaN        NaN  \n\n[5 rows x 23 columns]",
      "text/html": "<div>\n<style scoped>\n    .dataframe tbody tr th:only-of-type {\n        vertical-align: middle;\n    }\n\n    .dataframe tbody tr th {\n        vertical-align: top;\n    }\n\n    .dataframe thead th {\n        text-align: right;\n    }\n</style>\n<table border=\"1\" class=\"dataframe\">\n  <thead>\n    <tr style=\"text-align: right;\">\n      <th></th>\n      <th>iso2</th>\n      <th>year</th>\n      <th>new_sp</th>\n      <th>new_sp_m04</th>\n      <th>new_sp_m514</th>\n      <th>new_sp_m014</th>\n      <th>new_sp_m1524</th>\n      <th>new_sp_m2534</th>\n      <th>new_sp_m3544</th>\n      <th>new_sp_m4554</th>\n      <th>...</th>\n      <th>new_sp_f04</th>\n      <th>new_sp_f514</th>\n      <th>new_sp_f014</th>\n      <th>new_sp_f1524</th>\n      <th>new_sp_f2534</th>\n      <th>new_sp_f3544</th>\n      <th>new_sp_f4554</th>\n      <th>new_sp_f5564</th>\n      <th>new_sp_f65</th>\n      <th>new_sp_fu</th>\n    </tr>\n  </thead>\n  <tbody>\n    <tr>\n      <th>0</th>\n      <td>AD</td>\n      <td>1989</td>\n      <td>NaN</td>\n      <td>NaN</td>\n      <td>NaN</td>\n      <td>NaN</td>\n      <td>NaN</td>\n      <td>NaN</td>\n      <td>NaN</td>\n      <td>NaN</td>\n      <td>...</td>\n      <td>NaN</td>\n      <td>NaN</td>\n      <td>NaN</td>\n      <td>NaN</td>\n      <td>NaN</td>\n      <td>NaN</td>\n      <td>NaN</td>\n      <td>NaN</td>\n      <td>NaN</td>\n      <td>NaN</td>\n    </tr>\n    <tr>\n      <th>1</th>\n      <td>AD</td>\n      <td>1990</td>\n      <td>NaN</td>\n      <td>NaN</td>\n      <td>NaN</td>\n      <td>NaN</td>\n      <td>NaN</td>\n      <td>NaN</td>\n      <td>NaN</td>\n      <td>NaN</td>\n      <td>...</td>\n      <td>NaN</td>\n      <td>NaN</td>\n      <td>NaN</td>\n      <td>NaN</td>\n      <td>NaN</td>\n      <td>NaN</td>\n      <td>NaN</td>\n      <td>NaN</td>\n      <td>NaN</td>\n      <td>NaN</td>\n    </tr>\n    <tr>\n      <th>2</th>\n      <td>AD</td>\n      <td>1991</td>\n      <td>NaN</td>\n      <td>NaN</td>\n      <td>NaN</td>\n      <td>NaN</td>\n      <td>NaN</td>\n      <td>NaN</td>\n      <td>NaN</td>\n      <td>NaN</td>\n      <td>...</td>\n      <td>NaN</td>\n      <td>NaN</td>\n      <td>NaN</td>\n      <td>NaN</td>\n      <td>NaN</td>\n      <td>NaN</td>\n      <td>NaN</td>\n      <td>NaN</td>\n      <td>NaN</td>\n      <td>NaN</td>\n    </tr>\n    <tr>\n      <th>3</th>\n      <td>AD</td>\n      <td>1992</td>\n      <td>NaN</td>\n      <td>NaN</td>\n      <td>NaN</td>\n      <td>NaN</td>\n      <td>NaN</td>\n      <td>NaN</td>\n      <td>NaN</td>\n      <td>NaN</td>\n      <td>...</td>\n      <td>NaN</td>\n      <td>NaN</td>\n      <td>NaN</td>\n      <td>NaN</td>\n      <td>NaN</td>\n      <td>NaN</td>\n      <td>NaN</td>\n      <td>NaN</td>\n      <td>NaN</td>\n      <td>NaN</td>\n    </tr>\n    <tr>\n      <th>4</th>\n      <td>AD</td>\n      <td>1993</td>\n      <td>15.0</td>\n      <td>NaN</td>\n      <td>NaN</td>\n      <td>NaN</td>\n      <td>NaN</td>\n      <td>NaN</td>\n      <td>NaN</td>\n      <td>NaN</td>\n      <td>...</td>\n      <td>NaN</td>\n      <td>NaN</td>\n      <td>NaN</td>\n      <td>NaN</td>\n      <td>NaN</td>\n      <td>NaN</td>\n      <td>NaN</td>\n      <td>NaN</td>\n      <td>NaN</td>\n      <td>NaN</td>\n    </tr>\n  </tbody>\n</table>\n<p>5 rows × 23 columns</p>\n</div>"
     },
     "execution_count": 431,
     "metadata": {},
     "output_type": "execute_result"
    }
   ],
   "source": [
    "# read csv\n",
    "df = pd.read_csv('../OriginalData/tb.csv')\n",
    "df.head()"
   ]
  },
  {
   "cell_type": "code",
   "execution_count": 432,
   "id": "720bf8bb",
   "metadata": {},
   "outputs": [
    {
     "data": {
      "text/plain": "  iso2  year  new_sp  m04  m514  m014  m1524  m2534  m3544  m4554  ...  f04  \\\n0   AD  1989     NaN  NaN   NaN   NaN    NaN    NaN    NaN    NaN  ...  NaN   \n1   AD  1990     NaN  NaN   NaN   NaN    NaN    NaN    NaN    NaN  ...  NaN   \n2   AD  1991     NaN  NaN   NaN   NaN    NaN    NaN    NaN    NaN  ...  NaN   \n3   AD  1992     NaN  NaN   NaN   NaN    NaN    NaN    NaN    NaN  ...  NaN   \n4   AD  1993    15.0  NaN   NaN   NaN    NaN    NaN    NaN    NaN  ...  NaN   \n\n   f514  f014  f1524  f2534  f3544  f4554  f5564  f65  fu  \n0   NaN   NaN    NaN    NaN    NaN    NaN    NaN  NaN NaN  \n1   NaN   NaN    NaN    NaN    NaN    NaN    NaN  NaN NaN  \n2   NaN   NaN    NaN    NaN    NaN    NaN    NaN  NaN NaN  \n3   NaN   NaN    NaN    NaN    NaN    NaN    NaN  NaN NaN  \n4   NaN   NaN    NaN    NaN    NaN    NaN    NaN  NaN NaN  \n\n[5 rows x 23 columns]",
      "text/html": "<div>\n<style scoped>\n    .dataframe tbody tr th:only-of-type {\n        vertical-align: middle;\n    }\n\n    .dataframe tbody tr th {\n        vertical-align: top;\n    }\n\n    .dataframe thead th {\n        text-align: right;\n    }\n</style>\n<table border=\"1\" class=\"dataframe\">\n  <thead>\n    <tr style=\"text-align: right;\">\n      <th></th>\n      <th>iso2</th>\n      <th>year</th>\n      <th>new_sp</th>\n      <th>m04</th>\n      <th>m514</th>\n      <th>m014</th>\n      <th>m1524</th>\n      <th>m2534</th>\n      <th>m3544</th>\n      <th>m4554</th>\n      <th>...</th>\n      <th>f04</th>\n      <th>f514</th>\n      <th>f014</th>\n      <th>f1524</th>\n      <th>f2534</th>\n      <th>f3544</th>\n      <th>f4554</th>\n      <th>f5564</th>\n      <th>f65</th>\n      <th>fu</th>\n    </tr>\n  </thead>\n  <tbody>\n    <tr>\n      <th>0</th>\n      <td>AD</td>\n      <td>1989</td>\n      <td>NaN</td>\n      <td>NaN</td>\n      <td>NaN</td>\n      <td>NaN</td>\n      <td>NaN</td>\n      <td>NaN</td>\n      <td>NaN</td>\n      <td>NaN</td>\n      <td>...</td>\n      <td>NaN</td>\n      <td>NaN</td>\n      <td>NaN</td>\n      <td>NaN</td>\n      <td>NaN</td>\n      <td>NaN</td>\n      <td>NaN</td>\n      <td>NaN</td>\n      <td>NaN</td>\n      <td>NaN</td>\n    </tr>\n    <tr>\n      <th>1</th>\n      <td>AD</td>\n      <td>1990</td>\n      <td>NaN</td>\n      <td>NaN</td>\n      <td>NaN</td>\n      <td>NaN</td>\n      <td>NaN</td>\n      <td>NaN</td>\n      <td>NaN</td>\n      <td>NaN</td>\n      <td>...</td>\n      <td>NaN</td>\n      <td>NaN</td>\n      <td>NaN</td>\n      <td>NaN</td>\n      <td>NaN</td>\n      <td>NaN</td>\n      <td>NaN</td>\n      <td>NaN</td>\n      <td>NaN</td>\n      <td>NaN</td>\n    </tr>\n    <tr>\n      <th>2</th>\n      <td>AD</td>\n      <td>1991</td>\n      <td>NaN</td>\n      <td>NaN</td>\n      <td>NaN</td>\n      <td>NaN</td>\n      <td>NaN</td>\n      <td>NaN</td>\n      <td>NaN</td>\n      <td>NaN</td>\n      <td>...</td>\n      <td>NaN</td>\n      <td>NaN</td>\n      <td>NaN</td>\n      <td>NaN</td>\n      <td>NaN</td>\n      <td>NaN</td>\n      <td>NaN</td>\n      <td>NaN</td>\n      <td>NaN</td>\n      <td>NaN</td>\n    </tr>\n    <tr>\n      <th>3</th>\n      <td>AD</td>\n      <td>1992</td>\n      <td>NaN</td>\n      <td>NaN</td>\n      <td>NaN</td>\n      <td>NaN</td>\n      <td>NaN</td>\n      <td>NaN</td>\n      <td>NaN</td>\n      <td>NaN</td>\n      <td>...</td>\n      <td>NaN</td>\n      <td>NaN</td>\n      <td>NaN</td>\n      <td>NaN</td>\n      <td>NaN</td>\n      <td>NaN</td>\n      <td>NaN</td>\n      <td>NaN</td>\n      <td>NaN</td>\n      <td>NaN</td>\n    </tr>\n    <tr>\n      <th>4</th>\n      <td>AD</td>\n      <td>1993</td>\n      <td>15.0</td>\n      <td>NaN</td>\n      <td>NaN</td>\n      <td>NaN</td>\n      <td>NaN</td>\n      <td>NaN</td>\n      <td>NaN</td>\n      <td>NaN</td>\n      <td>...</td>\n      <td>NaN</td>\n      <td>NaN</td>\n      <td>NaN</td>\n      <td>NaN</td>\n      <td>NaN</td>\n      <td>NaN</td>\n      <td>NaN</td>\n      <td>NaN</td>\n      <td>NaN</td>\n      <td>NaN</td>\n    </tr>\n  </tbody>\n</table>\n<p>5 rows × 23 columns</p>\n</div>"
     },
     "execution_count": 432,
     "metadata": {},
     "output_type": "execute_result"
    }
   ],
   "source": [
    "# prettify column names\n",
    "df.columns = list(df.columns[0:3]) + [c[7:] for c in df.columns[3:]]\n",
    "df.head()"
   ]
  },
  {
   "cell_type": "code",
   "execution_count": 433,
   "id": "4710ad70",
   "metadata": {},
   "outputs": [
    {
     "data": {
      "text/plain": "  iso2  year  new_sp  m04  m514  m014  m1524  m2534  m3544  m4554  ...  f04  \\\n0   AD  1989     0.0  0.0   0.0   0.0    0.0    0.0    0.0    0.0  ...  0.0   \n1   AD  1990     0.0  0.0   0.0   0.0    0.0    0.0    0.0    0.0  ...  0.0   \n2   AD  1991     0.0  0.0   0.0   0.0    0.0    0.0    0.0    0.0  ...  0.0   \n3   AD  1992     0.0  0.0   0.0   0.0    0.0    0.0    0.0    0.0  ...  0.0   \n4   AD  1993    15.0  0.0   0.0   0.0    0.0    0.0    0.0    0.0  ...  0.0   \n\n   f514  f014  f1524  f2534  f3544  f4554  f5564  f65   fu  \n0   0.0   0.0    0.0    0.0    0.0    0.0    0.0  0.0  0.0  \n1   0.0   0.0    0.0    0.0    0.0    0.0    0.0  0.0  0.0  \n2   0.0   0.0    0.0    0.0    0.0    0.0    0.0  0.0  0.0  \n3   0.0   0.0    0.0    0.0    0.0    0.0    0.0  0.0  0.0  \n4   0.0   0.0    0.0    0.0    0.0    0.0    0.0  0.0  0.0  \n\n[5 rows x 23 columns]",
      "text/html": "<div>\n<style scoped>\n    .dataframe tbody tr th:only-of-type {\n        vertical-align: middle;\n    }\n\n    .dataframe tbody tr th {\n        vertical-align: top;\n    }\n\n    .dataframe thead th {\n        text-align: right;\n    }\n</style>\n<table border=\"1\" class=\"dataframe\">\n  <thead>\n    <tr style=\"text-align: right;\">\n      <th></th>\n      <th>iso2</th>\n      <th>year</th>\n      <th>new_sp</th>\n      <th>m04</th>\n      <th>m514</th>\n      <th>m014</th>\n      <th>m1524</th>\n      <th>m2534</th>\n      <th>m3544</th>\n      <th>m4554</th>\n      <th>...</th>\n      <th>f04</th>\n      <th>f514</th>\n      <th>f014</th>\n      <th>f1524</th>\n      <th>f2534</th>\n      <th>f3544</th>\n      <th>f4554</th>\n      <th>f5564</th>\n      <th>f65</th>\n      <th>fu</th>\n    </tr>\n  </thead>\n  <tbody>\n    <tr>\n      <th>0</th>\n      <td>AD</td>\n      <td>1989</td>\n      <td>0.0</td>\n      <td>0.0</td>\n      <td>0.0</td>\n      <td>0.0</td>\n      <td>0.0</td>\n      <td>0.0</td>\n      <td>0.0</td>\n      <td>0.0</td>\n      <td>...</td>\n      <td>0.0</td>\n      <td>0.0</td>\n      <td>0.0</td>\n      <td>0.0</td>\n      <td>0.0</td>\n      <td>0.0</td>\n      <td>0.0</td>\n      <td>0.0</td>\n      <td>0.0</td>\n      <td>0.0</td>\n    </tr>\n    <tr>\n      <th>1</th>\n      <td>AD</td>\n      <td>1990</td>\n      <td>0.0</td>\n      <td>0.0</td>\n      <td>0.0</td>\n      <td>0.0</td>\n      <td>0.0</td>\n      <td>0.0</td>\n      <td>0.0</td>\n      <td>0.0</td>\n      <td>...</td>\n      <td>0.0</td>\n      <td>0.0</td>\n      <td>0.0</td>\n      <td>0.0</td>\n      <td>0.0</td>\n      <td>0.0</td>\n      <td>0.0</td>\n      <td>0.0</td>\n      <td>0.0</td>\n      <td>0.0</td>\n    </tr>\n    <tr>\n      <th>2</th>\n      <td>AD</td>\n      <td>1991</td>\n      <td>0.0</td>\n      <td>0.0</td>\n      <td>0.0</td>\n      <td>0.0</td>\n      <td>0.0</td>\n      <td>0.0</td>\n      <td>0.0</td>\n      <td>0.0</td>\n      <td>...</td>\n      <td>0.0</td>\n      <td>0.0</td>\n      <td>0.0</td>\n      <td>0.0</td>\n      <td>0.0</td>\n      <td>0.0</td>\n      <td>0.0</td>\n      <td>0.0</td>\n      <td>0.0</td>\n      <td>0.0</td>\n    </tr>\n    <tr>\n      <th>3</th>\n      <td>AD</td>\n      <td>1992</td>\n      <td>0.0</td>\n      <td>0.0</td>\n      <td>0.0</td>\n      <td>0.0</td>\n      <td>0.0</td>\n      <td>0.0</td>\n      <td>0.0</td>\n      <td>0.0</td>\n      <td>...</td>\n      <td>0.0</td>\n      <td>0.0</td>\n      <td>0.0</td>\n      <td>0.0</td>\n      <td>0.0</td>\n      <td>0.0</td>\n      <td>0.0</td>\n      <td>0.0</td>\n      <td>0.0</td>\n      <td>0.0</td>\n    </tr>\n    <tr>\n      <th>4</th>\n      <td>AD</td>\n      <td>1993</td>\n      <td>15.0</td>\n      <td>0.0</td>\n      <td>0.0</td>\n      <td>0.0</td>\n      <td>0.0</td>\n      <td>0.0</td>\n      <td>0.0</td>\n      <td>0.0</td>\n      <td>...</td>\n      <td>0.0</td>\n      <td>0.0</td>\n      <td>0.0</td>\n      <td>0.0</td>\n      <td>0.0</td>\n      <td>0.0</td>\n      <td>0.0</td>\n      <td>0.0</td>\n      <td>0.0</td>\n      <td>0.0</td>\n    </tr>\n  </tbody>\n</table>\n<p>5 rows × 23 columns</p>\n</div>"
     },
     "execution_count": 433,
     "metadata": {},
     "output_type": "execute_result"
    }
   ],
   "source": [
    "# fill NaN with value 0\n",
    "df.fillna(0, inplace=True)\n",
    "df.head()"
   ]
  },
  {
   "cell_type": "code",
   "execution_count": 434,
   "id": "821b8dc8",
   "metadata": {},
   "outputs": [
    {
     "data": {
      "text/plain": "  iso2  year  m014  m1524  m2534  m3544  m4554  m5564  m65  f014  f1524  \\\n0   AD  1989   0.0    0.0    0.0    0.0    0.0    0.0  0.0   0.0    0.0   \n1   AD  1990   0.0    0.0    0.0    0.0    0.0    0.0  0.0   0.0    0.0   \n2   AD  1991   0.0    0.0    0.0    0.0    0.0    0.0  0.0   0.0    0.0   \n3   AD  1992   0.0    0.0    0.0    0.0    0.0    0.0  0.0   0.0    0.0   \n4   AD  1993   0.0    0.0    0.0    0.0    0.0    0.0  0.0   0.0    0.0   \n\n   f2534  f3544  f4554  f5564  f65  \n0    0.0    0.0    0.0    0.0  0.0  \n1    0.0    0.0    0.0    0.0  0.0  \n2    0.0    0.0    0.0    0.0  0.0  \n3    0.0    0.0    0.0    0.0  0.0  \n4    0.0    0.0    0.0    0.0  0.0  ",
      "text/html": "<div>\n<style scoped>\n    .dataframe tbody tr th:only-of-type {\n        vertical-align: middle;\n    }\n\n    .dataframe tbody tr th {\n        vertical-align: top;\n    }\n\n    .dataframe thead th {\n        text-align: right;\n    }\n</style>\n<table border=\"1\" class=\"dataframe\">\n  <thead>\n    <tr style=\"text-align: right;\">\n      <th></th>\n      <th>iso2</th>\n      <th>year</th>\n      <th>m014</th>\n      <th>m1524</th>\n      <th>m2534</th>\n      <th>m3544</th>\n      <th>m4554</th>\n      <th>m5564</th>\n      <th>m65</th>\n      <th>f014</th>\n      <th>f1524</th>\n      <th>f2534</th>\n      <th>f3544</th>\n      <th>f4554</th>\n      <th>f5564</th>\n      <th>f65</th>\n    </tr>\n  </thead>\n  <tbody>\n    <tr>\n      <th>0</th>\n      <td>AD</td>\n      <td>1989</td>\n      <td>0.0</td>\n      <td>0.0</td>\n      <td>0.0</td>\n      <td>0.0</td>\n      <td>0.0</td>\n      <td>0.0</td>\n      <td>0.0</td>\n      <td>0.0</td>\n      <td>0.0</td>\n      <td>0.0</td>\n      <td>0.0</td>\n      <td>0.0</td>\n      <td>0.0</td>\n      <td>0.0</td>\n    </tr>\n    <tr>\n      <th>1</th>\n      <td>AD</td>\n      <td>1990</td>\n      <td>0.0</td>\n      <td>0.0</td>\n      <td>0.0</td>\n      <td>0.0</td>\n      <td>0.0</td>\n      <td>0.0</td>\n      <td>0.0</td>\n      <td>0.0</td>\n      <td>0.0</td>\n      <td>0.0</td>\n      <td>0.0</td>\n      <td>0.0</td>\n      <td>0.0</td>\n      <td>0.0</td>\n    </tr>\n    <tr>\n      <th>2</th>\n      <td>AD</td>\n      <td>1991</td>\n      <td>0.0</td>\n      <td>0.0</td>\n      <td>0.0</td>\n      <td>0.0</td>\n      <td>0.0</td>\n      <td>0.0</td>\n      <td>0.0</td>\n      <td>0.0</td>\n      <td>0.0</td>\n      <td>0.0</td>\n      <td>0.0</td>\n      <td>0.0</td>\n      <td>0.0</td>\n      <td>0.0</td>\n    </tr>\n    <tr>\n      <th>3</th>\n      <td>AD</td>\n      <td>1992</td>\n      <td>0.0</td>\n      <td>0.0</td>\n      <td>0.0</td>\n      <td>0.0</td>\n      <td>0.0</td>\n      <td>0.0</td>\n      <td>0.0</td>\n      <td>0.0</td>\n      <td>0.0</td>\n      <td>0.0</td>\n      <td>0.0</td>\n      <td>0.0</td>\n      <td>0.0</td>\n      <td>0.0</td>\n    </tr>\n    <tr>\n      <th>4</th>\n      <td>AD</td>\n      <td>1993</td>\n      <td>0.0</td>\n      <td>0.0</td>\n      <td>0.0</td>\n      <td>0.0</td>\n      <td>0.0</td>\n      <td>0.0</td>\n      <td>0.0</td>\n      <td>0.0</td>\n      <td>0.0</td>\n      <td>0.0</td>\n      <td>0.0</td>\n      <td>0.0</td>\n      <td>0.0</td>\n      <td>0.0</td>\n    </tr>\n  </tbody>\n</table>\n</div>"
     },
     "execution_count": 434,
     "metadata": {},
     "output_type": "execute_result"
    }
   ],
   "source": [
    "# drop unnecessary and undefined columns\n",
    "df.drop('m04', axis='columns', inplace=True)\n",
    "df.drop('f04', axis='columns', inplace=True)\n",
    "df.drop('m514', axis='columns', inplace=True)\n",
    "df.drop('f514', axis='columns', inplace=True)\n",
    "df.drop('new_sp', axis=1, inplace=True)\n",
    "df.drop('mu', axis=1, inplace=True)\n",
    "df.drop('fu', axis=1, inplace=True)\n",
    "df.head()"
   ]
  },
  {
   "cell_type": "code",
   "execution_count": 435,
   "id": "13d141df",
   "metadata": {},
   "outputs": [
    {
     "data": {
      "text/plain": "  iso2  year sex_age  cases\n0   AD  1989    m014    0.0\n1   AD  1990    m014    0.0\n2   AD  1991    m014    0.0\n3   AD  1992    m014    0.0\n4   AD  1993    m014    0.0",
      "text/html": "<div>\n<style scoped>\n    .dataframe tbody tr th:only-of-type {\n        vertical-align: middle;\n    }\n\n    .dataframe tbody tr th {\n        vertical-align: top;\n    }\n\n    .dataframe thead th {\n        text-align: right;\n    }\n</style>\n<table border=\"1\" class=\"dataframe\">\n  <thead>\n    <tr style=\"text-align: right;\">\n      <th></th>\n      <th>iso2</th>\n      <th>year</th>\n      <th>sex_age</th>\n      <th>cases</th>\n    </tr>\n  </thead>\n  <tbody>\n    <tr>\n      <th>0</th>\n      <td>AD</td>\n      <td>1989</td>\n      <td>m014</td>\n      <td>0.0</td>\n    </tr>\n    <tr>\n      <th>1</th>\n      <td>AD</td>\n      <td>1990</td>\n      <td>m014</td>\n      <td>0.0</td>\n    </tr>\n    <tr>\n      <th>2</th>\n      <td>AD</td>\n      <td>1991</td>\n      <td>m014</td>\n      <td>0.0</td>\n    </tr>\n    <tr>\n      <th>3</th>\n      <td>AD</td>\n      <td>1992</td>\n      <td>m014</td>\n      <td>0.0</td>\n    </tr>\n    <tr>\n      <th>4</th>\n      <td>AD</td>\n      <td>1993</td>\n      <td>m014</td>\n      <td>0.0</td>\n    </tr>\n  </tbody>\n</table>\n</div>"
     },
     "execution_count": 435,
     "metadata": {},
     "output_type": "execute_result"
    }
   ],
   "source": [
    "# melt DataFrame\n",
    "df = df.melt(id_vars=['iso2', 'year'], var_name='sex_age', value_name='cases')\n",
    "df.head()"
   ]
  },
  {
   "cell_type": "code",
   "execution_count": 436,
   "id": "8a683145",
   "metadata": {},
   "outputs": [
    {
     "data": {
      "text/plain": "  iso2  year sex_age  cases sex  age\n0   AD  1989    m014    0.0   m   14\n1   AD  1990    m014    0.0   m   14\n2   AD  1991    m014    0.0   m   14\n3   AD  1992    m014    0.0   m   14\n4   AD  1993    m014    0.0   m   14",
      "text/html": "<div>\n<style scoped>\n    .dataframe tbody tr th:only-of-type {\n        vertical-align: middle;\n    }\n\n    .dataframe tbody tr th {\n        vertical-align: top;\n    }\n\n    .dataframe thead th {\n        text-align: right;\n    }\n</style>\n<table border=\"1\" class=\"dataframe\">\n  <thead>\n    <tr style=\"text-align: right;\">\n      <th></th>\n      <th>iso2</th>\n      <th>year</th>\n      <th>sex_age</th>\n      <th>cases</th>\n      <th>sex</th>\n      <th>age</th>\n    </tr>\n  </thead>\n  <tbody>\n    <tr>\n      <th>0</th>\n      <td>AD</td>\n      <td>1989</td>\n      <td>m014</td>\n      <td>0.0</td>\n      <td>m</td>\n      <td>14</td>\n    </tr>\n    <tr>\n      <th>1</th>\n      <td>AD</td>\n      <td>1990</td>\n      <td>m014</td>\n      <td>0.0</td>\n      <td>m</td>\n      <td>14</td>\n    </tr>\n    <tr>\n      <th>2</th>\n      <td>AD</td>\n      <td>1991</td>\n      <td>m014</td>\n      <td>0.0</td>\n      <td>m</td>\n      <td>14</td>\n    </tr>\n    <tr>\n      <th>3</th>\n      <td>AD</td>\n      <td>1992</td>\n      <td>m014</td>\n      <td>0.0</td>\n      <td>m</td>\n      <td>14</td>\n    </tr>\n    <tr>\n      <th>4</th>\n      <td>AD</td>\n      <td>1993</td>\n      <td>m014</td>\n      <td>0.0</td>\n      <td>m</td>\n      <td>14</td>\n    </tr>\n  </tbody>\n</table>\n</div>"
     },
     "execution_count": 436,
     "metadata": {},
     "output_type": "execute_result"
    }
   ],
   "source": [
    "# split column 'sex_age' into 'sex' and 'age'\n",
    "df['sex'] = df['sex_age'].str[0]\n",
    "df['age'] = pd.to_numeric(df['sex_age'].str[1:])\n",
    "df.head()"
   ]
  },
  {
   "cell_type": "code",
   "execution_count": 437,
   "id": "ed6ce5dc",
   "metadata": {},
   "outputs": [
    {
     "data": {
      "text/plain": "  iso2  year  cases sex  age\n0   AD  1989    0.0   m   14\n1   AD  1990    0.0   m   14\n2   AD  1991    0.0   m   14\n3   AD  1992    0.0   m   14\n4   AD  1993    0.0   m   14",
      "text/html": "<div>\n<style scoped>\n    .dataframe tbody tr th:only-of-type {\n        vertical-align: middle;\n    }\n\n    .dataframe tbody tr th {\n        vertical-align: top;\n    }\n\n    .dataframe thead th {\n        text-align: right;\n    }\n</style>\n<table border=\"1\" class=\"dataframe\">\n  <thead>\n    <tr style=\"text-align: right;\">\n      <th></th>\n      <th>iso2</th>\n      <th>year</th>\n      <th>cases</th>\n      <th>sex</th>\n      <th>age</th>\n    </tr>\n  </thead>\n  <tbody>\n    <tr>\n      <th>0</th>\n      <td>AD</td>\n      <td>1989</td>\n      <td>0.0</td>\n      <td>m</td>\n      <td>14</td>\n    </tr>\n    <tr>\n      <th>1</th>\n      <td>AD</td>\n      <td>1990</td>\n      <td>0.0</td>\n      <td>m</td>\n      <td>14</td>\n    </tr>\n    <tr>\n      <th>2</th>\n      <td>AD</td>\n      <td>1991</td>\n      <td>0.0</td>\n      <td>m</td>\n      <td>14</td>\n    </tr>\n    <tr>\n      <th>3</th>\n      <td>AD</td>\n      <td>1992</td>\n      <td>0.0</td>\n      <td>m</td>\n      <td>14</td>\n    </tr>\n    <tr>\n      <th>4</th>\n      <td>AD</td>\n      <td>1993</td>\n      <td>0.0</td>\n      <td>m</td>\n      <td>14</td>\n    </tr>\n  </tbody>\n</table>\n</div>"
     },
     "execution_count": 437,
     "metadata": {},
     "output_type": "execute_result"
    }
   ],
   "source": [
    "# drop redundant column 'sex_age'\n",
    "df.drop('sex_age', axis=1, inplace=True)\n",
    "df.head()"
   ]
  },
  {
   "cell_type": "code",
   "execution_count": 438,
   "id": "8059221f",
   "metadata": {
    "pycharm": {
     "name": "#%%\n"
    }
   },
   "outputs": [
    {
     "data": {
      "text/plain": "      iso2  year   cases sex   age\n43359   LR  1987     0.0   f    14\n26258   MC  1997     0.0   m  4554\n9834    PE  1994     0.0   m  1524\n19371   GW  1993     0.0   m  3544\n53831   GM  1994     0.0   f  2534\n52355   BD  1997  2634.0   f  2534\n44504   PG  1992     0.0   f    14\n53026   CM  1985     0.0   f  2534\n78654   MY  2004   532.0   f  6500\n80251   TV  1992     0.0   f  6500",
      "text/html": "<div>\n<style scoped>\n    .dataframe tbody tr th:only-of-type {\n        vertical-align: middle;\n    }\n\n    .dataframe tbody tr th {\n        vertical-align: top;\n    }\n\n    .dataframe thead th {\n        text-align: right;\n    }\n</style>\n<table border=\"1\" class=\"dataframe\">\n  <thead>\n    <tr style=\"text-align: right;\">\n      <th></th>\n      <th>iso2</th>\n      <th>year</th>\n      <th>cases</th>\n      <th>sex</th>\n      <th>age</th>\n    </tr>\n  </thead>\n  <tbody>\n    <tr>\n      <th>43359</th>\n      <td>LR</td>\n      <td>1987</td>\n      <td>0.0</td>\n      <td>f</td>\n      <td>14</td>\n    </tr>\n    <tr>\n      <th>26258</th>\n      <td>MC</td>\n      <td>1997</td>\n      <td>0.0</td>\n      <td>m</td>\n      <td>4554</td>\n    </tr>\n    <tr>\n      <th>9834</th>\n      <td>PE</td>\n      <td>1994</td>\n      <td>0.0</td>\n      <td>m</td>\n      <td>1524</td>\n    </tr>\n    <tr>\n      <th>19371</th>\n      <td>GW</td>\n      <td>1993</td>\n      <td>0.0</td>\n      <td>m</td>\n      <td>3544</td>\n    </tr>\n    <tr>\n      <th>53831</th>\n      <td>GM</td>\n      <td>1994</td>\n      <td>0.0</td>\n      <td>f</td>\n      <td>2534</td>\n    </tr>\n    <tr>\n      <th>52355</th>\n      <td>BD</td>\n      <td>1997</td>\n      <td>2634.0</td>\n      <td>f</td>\n      <td>2534</td>\n    </tr>\n    <tr>\n      <th>44504</th>\n      <td>PG</td>\n      <td>1992</td>\n      <td>0.0</td>\n      <td>f</td>\n      <td>14</td>\n    </tr>\n    <tr>\n      <th>53026</th>\n      <td>CM</td>\n      <td>1985</td>\n      <td>0.0</td>\n      <td>f</td>\n      <td>2534</td>\n    </tr>\n    <tr>\n      <th>78654</th>\n      <td>MY</td>\n      <td>2004</td>\n      <td>532.0</td>\n      <td>f</td>\n      <td>6500</td>\n    </tr>\n    <tr>\n      <th>80251</th>\n      <td>TV</td>\n      <td>1992</td>\n      <td>0.0</td>\n      <td>f</td>\n      <td>6500</td>\n    </tr>\n  </tbody>\n</table>\n</div>"
     },
     "execution_count": 438,
     "metadata": {},
     "output_type": "execute_result"
    }
   ],
   "source": [
    "# temporary values transform for proper sort\n",
    "age_fun = lambda x: 6500 if x == 65 else x\n",
    "df['age'] = df['age'].map(age_fun)\n",
    "df.sample(10)"
   ]
  },
  {
   "cell_type": "code",
   "execution_count": 439,
   "id": "4bef1b18",
   "metadata": {
    "pycharm": {
     "name": "#%%\n"
    }
   },
   "outputs": [
    {
     "data": {
      "text/plain": "      iso2  year  cases sex    age\n11235   VC  2005    0.0   m  15-24\n43684   ML  1986    0.0   f   0-14\n36381   GA  1980    0.0   m    65+\n29084   AR  2003  366.0   m  55-64\n36190   EG  2007  214.0   m    65+\n26615   MU  2002   12.0   m  45-54\n3589    MW  1994    0.0   m   0-14\n47444   CY  2006    2.0   f  15-24\n33276   RU  1988    0.0   m  55-64\n8448    KI  2006   18.0   m  15-24",
      "text/html": "<div>\n<style scoped>\n    .dataframe tbody tr th:only-of-type {\n        vertical-align: middle;\n    }\n\n    .dataframe tbody tr th {\n        vertical-align: top;\n    }\n\n    .dataframe thead th {\n        text-align: right;\n    }\n</style>\n<table border=\"1\" class=\"dataframe\">\n  <thead>\n    <tr style=\"text-align: right;\">\n      <th></th>\n      <th>iso2</th>\n      <th>year</th>\n      <th>cases</th>\n      <th>sex</th>\n      <th>age</th>\n    </tr>\n  </thead>\n  <tbody>\n    <tr>\n      <th>11235</th>\n      <td>VC</td>\n      <td>2005</td>\n      <td>0.0</td>\n      <td>m</td>\n      <td>15-24</td>\n    </tr>\n    <tr>\n      <th>43684</th>\n      <td>ML</td>\n      <td>1986</td>\n      <td>0.0</td>\n      <td>f</td>\n      <td>0-14</td>\n    </tr>\n    <tr>\n      <th>36381</th>\n      <td>GA</td>\n      <td>1980</td>\n      <td>0.0</td>\n      <td>m</td>\n      <td>65+</td>\n    </tr>\n    <tr>\n      <th>29084</th>\n      <td>AR</td>\n      <td>2003</td>\n      <td>366.0</td>\n      <td>m</td>\n      <td>55-64</td>\n    </tr>\n    <tr>\n      <th>36190</th>\n      <td>EG</td>\n      <td>2007</td>\n      <td>214.0</td>\n      <td>m</td>\n      <td>65+</td>\n    </tr>\n    <tr>\n      <th>26615</th>\n      <td>MU</td>\n      <td>2002</td>\n      <td>12.0</td>\n      <td>m</td>\n      <td>45-54</td>\n    </tr>\n    <tr>\n      <th>3589</th>\n      <td>MW</td>\n      <td>1994</td>\n      <td>0.0</td>\n      <td>m</td>\n      <td>0-14</td>\n    </tr>\n    <tr>\n      <th>47444</th>\n      <td>CY</td>\n      <td>2006</td>\n      <td>2.0</td>\n      <td>f</td>\n      <td>15-24</td>\n    </tr>\n    <tr>\n      <th>33276</th>\n      <td>RU</td>\n      <td>1988</td>\n      <td>0.0</td>\n      <td>m</td>\n      <td>55-64</td>\n    </tr>\n    <tr>\n      <th>8448</th>\n      <td>KI</td>\n      <td>2006</td>\n      <td>18.0</td>\n      <td>m</td>\n      <td>15-24</td>\n    </tr>\n  </tbody>\n</table>\n</div>"
     },
     "execution_count": 439,
     "metadata": {},
     "output_type": "execute_result"
    }
   ],
   "source": [
    "# prettify column 'age'\n",
    "age_map = {14: '0-14', 1524: '15-24', 2534: '25-34', 3544: '35-44', 4554: '45-54', 5564: '55-64', 6500: '65+'}\n",
    "df['age'] = df['age'].map(age_map)\n",
    "df.sample(10)"
   ]
  },
  {
   "cell_type": "code",
   "execution_count": 440,
   "id": "8532f37d",
   "metadata": {},
   "outputs": [
    {
     "data": {
      "text/plain": "                     cases\niso2 year age   sex       \nAD   1989 0-14  f      0.0\n                m      0.0\n          15-24 f      0.0\n                m      0.0\n          25-34 f      0.0\n                m      0.0\n          35-44 f      0.0\n                m      0.0\n          45-54 f      0.0\n                m      0.0\n          55-64 f      0.0\n                m      0.0\n          65+   f      0.0\n                m      0.0\n     1990 0-14  f      0.0\n                m      0.0\n          15-24 f      0.0\n                m      0.0\n          25-34 f      0.0\n                m      0.0",
      "text/html": "<div>\n<style scoped>\n    .dataframe tbody tr th:only-of-type {\n        vertical-align: middle;\n    }\n\n    .dataframe tbody tr th {\n        vertical-align: top;\n    }\n\n    .dataframe thead th {\n        text-align: right;\n    }\n</style>\n<table border=\"1\" class=\"dataframe\">\n  <thead>\n    <tr style=\"text-align: right;\">\n      <th></th>\n      <th></th>\n      <th></th>\n      <th></th>\n      <th>cases</th>\n    </tr>\n    <tr>\n      <th>iso2</th>\n      <th>year</th>\n      <th>age</th>\n      <th>sex</th>\n      <th></th>\n    </tr>\n  </thead>\n  <tbody>\n    <tr>\n      <th rowspan=\"20\" valign=\"top\">AD</th>\n      <th rowspan=\"14\" valign=\"top\">1989</th>\n      <th rowspan=\"2\" valign=\"top\">0-14</th>\n      <th>f</th>\n      <td>0.0</td>\n    </tr>\n    <tr>\n      <th>m</th>\n      <td>0.0</td>\n    </tr>\n    <tr>\n      <th rowspan=\"2\" valign=\"top\">15-24</th>\n      <th>f</th>\n      <td>0.0</td>\n    </tr>\n    <tr>\n      <th>m</th>\n      <td>0.0</td>\n    </tr>\n    <tr>\n      <th rowspan=\"2\" valign=\"top\">25-34</th>\n      <th>f</th>\n      <td>0.0</td>\n    </tr>\n    <tr>\n      <th>m</th>\n      <td>0.0</td>\n    </tr>\n    <tr>\n      <th rowspan=\"2\" valign=\"top\">35-44</th>\n      <th>f</th>\n      <td>0.0</td>\n    </tr>\n    <tr>\n      <th>m</th>\n      <td>0.0</td>\n    </tr>\n    <tr>\n      <th rowspan=\"2\" valign=\"top\">45-54</th>\n      <th>f</th>\n      <td>0.0</td>\n    </tr>\n    <tr>\n      <th>m</th>\n      <td>0.0</td>\n    </tr>\n    <tr>\n      <th rowspan=\"2\" valign=\"top\">55-64</th>\n      <th>f</th>\n      <td>0.0</td>\n    </tr>\n    <tr>\n      <th>m</th>\n      <td>0.0</td>\n    </tr>\n    <tr>\n      <th rowspan=\"2\" valign=\"top\">65+</th>\n      <th>f</th>\n      <td>0.0</td>\n    </tr>\n    <tr>\n      <th>m</th>\n      <td>0.0</td>\n    </tr>\n    <tr>\n      <th rowspan=\"6\" valign=\"top\">1990</th>\n      <th rowspan=\"2\" valign=\"top\">0-14</th>\n      <th>f</th>\n      <td>0.0</td>\n    </tr>\n    <tr>\n      <th>m</th>\n      <td>0.0</td>\n    </tr>\n    <tr>\n      <th rowspan=\"2\" valign=\"top\">15-24</th>\n      <th>f</th>\n      <td>0.0</td>\n    </tr>\n    <tr>\n      <th>m</th>\n      <td>0.0</td>\n    </tr>\n    <tr>\n      <th rowspan=\"2\" valign=\"top\">25-34</th>\n      <th>f</th>\n      <td>0.0</td>\n    </tr>\n    <tr>\n      <th>m</th>\n      <td>0.0</td>\n    </tr>\n  </tbody>\n</table>\n</div>"
     },
     "execution_count": 440,
     "metadata": {},
     "output_type": "execute_result"
    }
   ],
   "source": [
    "# create pivot table\n",
    "df = pd.pivot_table(df, index=['iso2', 'year', 'age', 'sex'], values='cases', aggfunc=np.sum)\n",
    "df.drop(0, axis=0, inplace=True)\n",
    "df.head(20)"
   ]
  },
  {
   "cell_type": "code",
   "execution_count": 441,
   "id": "6274e7f6",
   "metadata": {
    "pycharm": {
     "name": "#%%\n"
    }
   },
   "outputs": [
    {
     "data": {
      "text/plain": "                      cases\niso2 year age   sex        \nZW   2007 45-54 f     553.0\n                m     716.0\n          55-64 f     213.0\n                m     292.0\n          65+   f      90.0\n                m     153.0\n     2008 0-14  f     145.0\n                m     127.0\n          15-24 f     840.0\n                m     614.0\n          25-34 f       0.0\n                m       0.0\n          35-44 f    2890.0\n                m    3316.0\n          45-54 f     467.0\n                m     704.0\n          55-64 f     174.0\n                m     263.0\n          65+   f     105.0\n                m     185.0",
      "text/html": "<div>\n<style scoped>\n    .dataframe tbody tr th:only-of-type {\n        vertical-align: middle;\n    }\n\n    .dataframe tbody tr th {\n        vertical-align: top;\n    }\n\n    .dataframe thead th {\n        text-align: right;\n    }\n</style>\n<table border=\"1\" class=\"dataframe\">\n  <thead>\n    <tr style=\"text-align: right;\">\n      <th></th>\n      <th></th>\n      <th></th>\n      <th></th>\n      <th>cases</th>\n    </tr>\n    <tr>\n      <th>iso2</th>\n      <th>year</th>\n      <th>age</th>\n      <th>sex</th>\n      <th></th>\n    </tr>\n  </thead>\n  <tbody>\n    <tr>\n      <th rowspan=\"20\" valign=\"top\">ZW</th>\n      <th rowspan=\"6\" valign=\"top\">2007</th>\n      <th rowspan=\"2\" valign=\"top\">45-54</th>\n      <th>f</th>\n      <td>553.0</td>\n    </tr>\n    <tr>\n      <th>m</th>\n      <td>716.0</td>\n    </tr>\n    <tr>\n      <th rowspan=\"2\" valign=\"top\">55-64</th>\n      <th>f</th>\n      <td>213.0</td>\n    </tr>\n    <tr>\n      <th>m</th>\n      <td>292.0</td>\n    </tr>\n    <tr>\n      <th rowspan=\"2\" valign=\"top\">65+</th>\n      <th>f</th>\n      <td>90.0</td>\n    </tr>\n    <tr>\n      <th>m</th>\n      <td>153.0</td>\n    </tr>\n    <tr>\n      <th rowspan=\"14\" valign=\"top\">2008</th>\n      <th rowspan=\"2\" valign=\"top\">0-14</th>\n      <th>f</th>\n      <td>145.0</td>\n    </tr>\n    <tr>\n      <th>m</th>\n      <td>127.0</td>\n    </tr>\n    <tr>\n      <th rowspan=\"2\" valign=\"top\">15-24</th>\n      <th>f</th>\n      <td>840.0</td>\n    </tr>\n    <tr>\n      <th>m</th>\n      <td>614.0</td>\n    </tr>\n    <tr>\n      <th rowspan=\"2\" valign=\"top\">25-34</th>\n      <th>f</th>\n      <td>0.0</td>\n    </tr>\n    <tr>\n      <th>m</th>\n      <td>0.0</td>\n    </tr>\n    <tr>\n      <th rowspan=\"2\" valign=\"top\">35-44</th>\n      <th>f</th>\n      <td>2890.0</td>\n    </tr>\n    <tr>\n      <th>m</th>\n      <td>3316.0</td>\n    </tr>\n    <tr>\n      <th rowspan=\"2\" valign=\"top\">45-54</th>\n      <th>f</th>\n      <td>467.0</td>\n    </tr>\n    <tr>\n      <th>m</th>\n      <td>704.0</td>\n    </tr>\n    <tr>\n      <th rowspan=\"2\" valign=\"top\">55-64</th>\n      <th>f</th>\n      <td>174.0</td>\n    </tr>\n    <tr>\n      <th>m</th>\n      <td>263.0</td>\n    </tr>\n    <tr>\n      <th rowspan=\"2\" valign=\"top\">65+</th>\n      <th>f</th>\n      <td>105.0</td>\n    </tr>\n    <tr>\n      <th>m</th>\n      <td>185.0</td>\n    </tr>\n  </tbody>\n</table>\n</div>"
     },
     "execution_count": 441,
     "metadata": {},
     "output_type": "execute_result"
    }
   ],
   "source": [
    "df.tail(20)"
   ]
  },
  {
   "cell_type": "code",
   "execution_count": 442,
   "outputs": [],
   "source": [
    "# save DataFrame to csv file\n",
    "df.to_csv(\"../AnalysisData/tb_analysed.csv\")"
   ],
   "metadata": {
    "collapsed": false,
    "pycharm": {
     "name": "#%%\n"
    }
   }
  }
 ],
 "metadata": {
  "kernelspec": {
   "display_name": "Python 3",
   "language": "python",
   "name": "python3"
  },
  "language_info": {
   "codemirror_mode": {
    "name": "ipython",
    "version": 3
   },
   "file_extension": ".py",
   "mimetype": "text/x-python",
   "name": "python",
   "nbconvert_exporter": "python",
   "pygments_lexer": "ipython3",
   "version": "3.8.8"
  }
 },
 "nbformat": 4,
 "nbformat_minor": 5
}