{
 "cells": [
  {
   "cell_type": "code",
   "execution_count": 39,
   "metadata": {
    "collapsed": true
   },
   "outputs": [],
   "source": [
    "import pandas as pd"
   ]
  },
  {
   "cell_type": "code",
   "execution_count": 40,
   "outputs": [
    {
     "data": {
      "text/plain": "  iso2  year  new_sp  new_sp_m04  new_sp_m514  new_sp_m014  new_sp_m1524  \\\n0   AD  1989     NaN         NaN          NaN          NaN           NaN   \n1   AD  1990     NaN         NaN          NaN          NaN           NaN   \n2   AD  1991     NaN         NaN          NaN          NaN           NaN   \n3   AD  1992     NaN         NaN          NaN          NaN           NaN   \n4   AD  1993    15.0         NaN          NaN          NaN           NaN   \n\n   new_sp_m2534  new_sp_m3544  new_sp_m4554  ...  new_sp_f04  new_sp_f514  \\\n0           NaN           NaN           NaN  ...         NaN          NaN   \n1           NaN           NaN           NaN  ...         NaN          NaN   \n2           NaN           NaN           NaN  ...         NaN          NaN   \n3           NaN           NaN           NaN  ...         NaN          NaN   \n4           NaN           NaN           NaN  ...         NaN          NaN   \n\n   new_sp_f014  new_sp_f1524  new_sp_f2534  new_sp_f3544  new_sp_f4554  \\\n0          NaN           NaN           NaN           NaN           NaN   \n1          NaN           NaN           NaN           NaN           NaN   \n2          NaN           NaN           NaN           NaN           NaN   \n3          NaN           NaN           NaN           NaN           NaN   \n4          NaN           NaN           NaN           NaN           NaN   \n\n   new_sp_f5564  new_sp_f65  new_sp_fu  \n0           NaN         NaN        NaN  \n1           NaN         NaN        NaN  \n2           NaN         NaN        NaN  \n3           NaN         NaN        NaN  \n4           NaN         NaN        NaN  \n\n[5 rows x 23 columns]",
      "text/html": "<div>\n<style scoped>\n    .dataframe tbody tr th:only-of-type {\n        vertical-align: middle;\n    }\n\n    .dataframe tbody tr th {\n        vertical-align: top;\n    }\n\n    .dataframe thead th {\n        text-align: right;\n    }\n</style>\n<table border=\"1\" class=\"dataframe\">\n  <thead>\n    <tr style=\"text-align: right;\">\n      <th></th>\n      <th>iso2</th>\n      <th>year</th>\n      <th>new_sp</th>\n      <th>new_sp_m04</th>\n      <th>new_sp_m514</th>\n      <th>new_sp_m014</th>\n      <th>new_sp_m1524</th>\n      <th>new_sp_m2534</th>\n      <th>new_sp_m3544</th>\n      <th>new_sp_m4554</th>\n      <th>...</th>\n      <th>new_sp_f04</th>\n      <th>new_sp_f514</th>\n      <th>new_sp_f014</th>\n      <th>new_sp_f1524</th>\n      <th>new_sp_f2534</th>\n      <th>new_sp_f3544</th>\n      <th>new_sp_f4554</th>\n      <th>new_sp_f5564</th>\n      <th>new_sp_f65</th>\n      <th>new_sp_fu</th>\n    </tr>\n  </thead>\n  <tbody>\n    <tr>\n      <th>0</th>\n      <td>AD</td>\n      <td>1989</td>\n      <td>NaN</td>\n      <td>NaN</td>\n      <td>NaN</td>\n      <td>NaN</td>\n      <td>NaN</td>\n      <td>NaN</td>\n      <td>NaN</td>\n      <td>NaN</td>\n      <td>...</td>\n      <td>NaN</td>\n      <td>NaN</td>\n      <td>NaN</td>\n      <td>NaN</td>\n      <td>NaN</td>\n      <td>NaN</td>\n      <td>NaN</td>\n      <td>NaN</td>\n      <td>NaN</td>\n      <td>NaN</td>\n    </tr>\n    <tr>\n      <th>1</th>\n      <td>AD</td>\n      <td>1990</td>\n      <td>NaN</td>\n      <td>NaN</td>\n      <td>NaN</td>\n      <td>NaN</td>\n      <td>NaN</td>\n      <td>NaN</td>\n      <td>NaN</td>\n      <td>NaN</td>\n      <td>...</td>\n      <td>NaN</td>\n      <td>NaN</td>\n      <td>NaN</td>\n      <td>NaN</td>\n      <td>NaN</td>\n      <td>NaN</td>\n      <td>NaN</td>\n      <td>NaN</td>\n      <td>NaN</td>\n      <td>NaN</td>\n    </tr>\n    <tr>\n      <th>2</th>\n      <td>AD</td>\n      <td>1991</td>\n      <td>NaN</td>\n      <td>NaN</td>\n      <td>NaN</td>\n      <td>NaN</td>\n      <td>NaN</td>\n      <td>NaN</td>\n      <td>NaN</td>\n      <td>NaN</td>\n      <td>...</td>\n      <td>NaN</td>\n      <td>NaN</td>\n      <td>NaN</td>\n      <td>NaN</td>\n      <td>NaN</td>\n      <td>NaN</td>\n      <td>NaN</td>\n      <td>NaN</td>\n      <td>NaN</td>\n      <td>NaN</td>\n    </tr>\n    <tr>\n      <th>3</th>\n      <td>AD</td>\n      <td>1992</td>\n      <td>NaN</td>\n      <td>NaN</td>\n      <td>NaN</td>\n      <td>NaN</td>\n      <td>NaN</td>\n      <td>NaN</td>\n      <td>NaN</td>\n      <td>NaN</td>\n      <td>...</td>\n      <td>NaN</td>\n      <td>NaN</td>\n      <td>NaN</td>\n      <td>NaN</td>\n      <td>NaN</td>\n      <td>NaN</td>\n      <td>NaN</td>\n      <td>NaN</td>\n      <td>NaN</td>\n      <td>NaN</td>\n    </tr>\n    <tr>\n      <th>4</th>\n      <td>AD</td>\n      <td>1993</td>\n      <td>15.0</td>\n      <td>NaN</td>\n      <td>NaN</td>\n      <td>NaN</td>\n      <td>NaN</td>\n      <td>NaN</td>\n      <td>NaN</td>\n      <td>NaN</td>\n      <td>...</td>\n      <td>NaN</td>\n      <td>NaN</td>\n      <td>NaN</td>\n      <td>NaN</td>\n      <td>NaN</td>\n      <td>NaN</td>\n      <td>NaN</td>\n      <td>NaN</td>\n      <td>NaN</td>\n      <td>NaN</td>\n    </tr>\n  </tbody>\n</table>\n<p>5 rows × 23 columns</p>\n</div>"
     },
     "execution_count": 40,
     "metadata": {},
     "output_type": "execute_result"
    }
   ],
   "source": [
    "df = pd.read_csv('tb.csv')\n",
    "df.head()"
   ],
   "metadata": {
    "collapsed": false,
    "pycharm": {
     "name": "#%%\n"
    }
   }
  },
  {
   "cell_type": "code",
   "execution_count": 41,
   "outputs": [
    {
     "data": {
      "text/plain": "  iso2  year  new_sp  new_sp_m04  new_sp_m514  new_sp_m014  new_sp_m1524  \\\n0   AD  2005     5.0         0.0          0.0          0.0           0.0   \n1   AD  2006     8.0         0.0          0.0          0.0           1.0   \n2   AD  2008     3.0         0.0          0.0          0.0           0.0   \n3   AE  2008    50.0         0.0          0.0          0.0           6.0   \n4   AL  2005   196.0         0.0          0.0          0.0          26.0   \n\n   new_sp_m2534  new_sp_m3544  new_sp_m4554  ...  new_sp_f04  new_sp_f514  \\\n0           1.0           1.0           0.0  ...         0.0          0.0   \n1           1.0           2.0           0.0  ...         0.0          0.0   \n2           0.0           0.0           1.0  ...         0.0          0.0   \n3           1.0           7.0           5.0  ...         0.0          0.0   \n4          21.0          16.0          31.0  ...         0.0          0.0   \n\n   new_sp_f014  new_sp_f1524  new_sp_f2534  new_sp_f3544  new_sp_f4554  \\\n0          0.0           1.0           1.0           1.0           0.0   \n1          0.0           0.0           1.0           0.0           1.0   \n2          0.0           0.0           0.0           1.0           1.0   \n3          0.0          10.0           4.0           1.0           1.0   \n4          0.0           3.0           9.0           5.0           5.0   \n\n   new_sp_f5564  new_sp_f65  new_sp_fu  \n0           0.0         0.0        0.0  \n1           0.0         0.0        0.0  \n2           0.0         0.0        0.0  \n3           3.0         3.0        0.0  \n4           5.0        18.0        0.0  \n\n[5 rows x 23 columns]",
      "text/html": "<div>\n<style scoped>\n    .dataframe tbody tr th:only-of-type {\n        vertical-align: middle;\n    }\n\n    .dataframe tbody tr th {\n        vertical-align: top;\n    }\n\n    .dataframe thead th {\n        text-align: right;\n    }\n</style>\n<table border=\"1\" class=\"dataframe\">\n  <thead>\n    <tr style=\"text-align: right;\">\n      <th></th>\n      <th>iso2</th>\n      <th>year</th>\n      <th>new_sp</th>\n      <th>new_sp_m04</th>\n      <th>new_sp_m514</th>\n      <th>new_sp_m014</th>\n      <th>new_sp_m1524</th>\n      <th>new_sp_m2534</th>\n      <th>new_sp_m3544</th>\n      <th>new_sp_m4554</th>\n      <th>...</th>\n      <th>new_sp_f04</th>\n      <th>new_sp_f514</th>\n      <th>new_sp_f014</th>\n      <th>new_sp_f1524</th>\n      <th>new_sp_f2534</th>\n      <th>new_sp_f3544</th>\n      <th>new_sp_f4554</th>\n      <th>new_sp_f5564</th>\n      <th>new_sp_f65</th>\n      <th>new_sp_fu</th>\n    </tr>\n  </thead>\n  <tbody>\n    <tr>\n      <th>0</th>\n      <td>AD</td>\n      <td>2005</td>\n      <td>5.0</td>\n      <td>0.0</td>\n      <td>0.0</td>\n      <td>0.0</td>\n      <td>0.0</td>\n      <td>1.0</td>\n      <td>1.0</td>\n      <td>0.0</td>\n      <td>...</td>\n      <td>0.0</td>\n      <td>0.0</td>\n      <td>0.0</td>\n      <td>1.0</td>\n      <td>1.0</td>\n      <td>1.0</td>\n      <td>0.0</td>\n      <td>0.0</td>\n      <td>0.0</td>\n      <td>0.0</td>\n    </tr>\n    <tr>\n      <th>1</th>\n      <td>AD</td>\n      <td>2006</td>\n      <td>8.0</td>\n      <td>0.0</td>\n      <td>0.0</td>\n      <td>0.0</td>\n      <td>1.0</td>\n      <td>1.0</td>\n      <td>2.0</td>\n      <td>0.0</td>\n      <td>...</td>\n      <td>0.0</td>\n      <td>0.0</td>\n      <td>0.0</td>\n      <td>0.0</td>\n      <td>1.0</td>\n      <td>0.0</td>\n      <td>1.0</td>\n      <td>0.0</td>\n      <td>0.0</td>\n      <td>0.0</td>\n    </tr>\n    <tr>\n      <th>2</th>\n      <td>AD</td>\n      <td>2008</td>\n      <td>3.0</td>\n      <td>0.0</td>\n      <td>0.0</td>\n      <td>0.0</td>\n      <td>0.0</td>\n      <td>0.0</td>\n      <td>0.0</td>\n      <td>1.0</td>\n      <td>...</td>\n      <td>0.0</td>\n      <td>0.0</td>\n      <td>0.0</td>\n      <td>0.0</td>\n      <td>0.0</td>\n      <td>1.0</td>\n      <td>1.0</td>\n      <td>0.0</td>\n      <td>0.0</td>\n      <td>0.0</td>\n    </tr>\n    <tr>\n      <th>3</th>\n      <td>AE</td>\n      <td>2008</td>\n      <td>50.0</td>\n      <td>0.0</td>\n      <td>0.0</td>\n      <td>0.0</td>\n      <td>6.0</td>\n      <td>1.0</td>\n      <td>7.0</td>\n      <td>5.0</td>\n      <td>...</td>\n      <td>0.0</td>\n      <td>0.0</td>\n      <td>0.0</td>\n      <td>10.0</td>\n      <td>4.0</td>\n      <td>1.0</td>\n      <td>1.0</td>\n      <td>3.0</td>\n      <td>3.0</td>\n      <td>0.0</td>\n    </tr>\n    <tr>\n      <th>4</th>\n      <td>AL</td>\n      <td>2005</td>\n      <td>196.0</td>\n      <td>0.0</td>\n      <td>0.0</td>\n      <td>0.0</td>\n      <td>26.0</td>\n      <td>21.0</td>\n      <td>16.0</td>\n      <td>31.0</td>\n      <td>...</td>\n      <td>0.0</td>\n      <td>0.0</td>\n      <td>0.0</td>\n      <td>3.0</td>\n      <td>9.0</td>\n      <td>5.0</td>\n      <td>5.0</td>\n      <td>5.0</td>\n      <td>18.0</td>\n      <td>0.0</td>\n    </tr>\n  </tbody>\n</table>\n<p>5 rows × 23 columns</p>\n</div>"
     },
     "execution_count": 41,
     "metadata": {},
     "output_type": "execute_result"
    }
   ],
   "source": [
    "df.dropna(inplace=True)\n",
    "df.reset_index(inplace=True)\n",
    "df.drop('index', axis=1, inplace=True)\n",
    "# df.drop('level_0', axis=1, inplace=True)\n",
    "df.head()"
   ],
   "metadata": {
    "collapsed": false,
    "pycharm": {
     "name": "#%%\n"
    }
   }
  },
  {
   "cell_type": "code",
   "execution_count": 42,
   "outputs": [
    {
     "data": {
      "text/plain": "  iso2  year  new_sp  new_sp_m04  new_sp_m514  new_sp_m1524  new_sp_m2534  \\\n0   AD  2005     5.0         0.0          0.0           0.0           1.0   \n1   AD  2006     8.0         0.0          0.0           1.0           1.0   \n2   AD  2008     3.0         0.0          0.0           0.0           0.0   \n3   AE  2008    50.0         0.0          0.0           6.0           1.0   \n4   AL  2005   196.0         0.0          0.0          26.0          21.0   \n\n   new_sp_m3544  new_sp_m4554  new_sp_m5564  ...  new_sp_mu  new_sp_f04  \\\n0           1.0           0.0           0.0  ...        0.0         0.0   \n1           2.0           0.0           1.0  ...        0.0         0.0   \n2           0.0           1.0           0.0  ...        0.0         0.0   \n3           7.0           5.0           3.0  ...        0.0         0.0   \n4          16.0          31.0          20.0  ...        0.0         0.0   \n\n   new_sp_f514  new_sp_f1524  new_sp_f2534  new_sp_f3544  new_sp_f4554  \\\n0          0.0           1.0           1.0           1.0           0.0   \n1          0.0           0.0           1.0           0.0           1.0   \n2          0.0           0.0           0.0           1.0           1.0   \n3          0.0          10.0           4.0           1.0           1.0   \n4          0.0           3.0           9.0           5.0           5.0   \n\n   new_sp_f5564  new_sp_f65  new_sp_fu  \n0           0.0         0.0        0.0  \n1           0.0         0.0        0.0  \n2           0.0         0.0        0.0  \n3           3.0         3.0        0.0  \n4           5.0        18.0        0.0  \n\n[5 rows x 21 columns]",
      "text/html": "<div>\n<style scoped>\n    .dataframe tbody tr th:only-of-type {\n        vertical-align: middle;\n    }\n\n    .dataframe tbody tr th {\n        vertical-align: top;\n    }\n\n    .dataframe thead th {\n        text-align: right;\n    }\n</style>\n<table border=\"1\" class=\"dataframe\">\n  <thead>\n    <tr style=\"text-align: right;\">\n      <th></th>\n      <th>iso2</th>\n      <th>year</th>\n      <th>new_sp</th>\n      <th>new_sp_m04</th>\n      <th>new_sp_m514</th>\n      <th>new_sp_m1524</th>\n      <th>new_sp_m2534</th>\n      <th>new_sp_m3544</th>\n      <th>new_sp_m4554</th>\n      <th>new_sp_m5564</th>\n      <th>...</th>\n      <th>new_sp_mu</th>\n      <th>new_sp_f04</th>\n      <th>new_sp_f514</th>\n      <th>new_sp_f1524</th>\n      <th>new_sp_f2534</th>\n      <th>new_sp_f3544</th>\n      <th>new_sp_f4554</th>\n      <th>new_sp_f5564</th>\n      <th>new_sp_f65</th>\n      <th>new_sp_fu</th>\n    </tr>\n  </thead>\n  <tbody>\n    <tr>\n      <th>0</th>\n      <td>AD</td>\n      <td>2005</td>\n      <td>5.0</td>\n      <td>0.0</td>\n      <td>0.0</td>\n      <td>0.0</td>\n      <td>1.0</td>\n      <td>1.0</td>\n      <td>0.0</td>\n      <td>0.0</td>\n      <td>...</td>\n      <td>0.0</td>\n      <td>0.0</td>\n      <td>0.0</td>\n      <td>1.0</td>\n      <td>1.0</td>\n      <td>1.0</td>\n      <td>0.0</td>\n      <td>0.0</td>\n      <td>0.0</td>\n      <td>0.0</td>\n    </tr>\n    <tr>\n      <th>1</th>\n      <td>AD</td>\n      <td>2006</td>\n      <td>8.0</td>\n      <td>0.0</td>\n      <td>0.0</td>\n      <td>1.0</td>\n      <td>1.0</td>\n      <td>2.0</td>\n      <td>0.0</td>\n      <td>1.0</td>\n      <td>...</td>\n      <td>0.0</td>\n      <td>0.0</td>\n      <td>0.0</td>\n      <td>0.0</td>\n      <td>1.0</td>\n      <td>0.0</td>\n      <td>1.0</td>\n      <td>0.0</td>\n      <td>0.0</td>\n      <td>0.0</td>\n    </tr>\n    <tr>\n      <th>2</th>\n      <td>AD</td>\n      <td>2008</td>\n      <td>3.0</td>\n      <td>0.0</td>\n      <td>0.0</td>\n      <td>0.0</td>\n      <td>0.0</td>\n      <td>0.0</td>\n      <td>1.0</td>\n      <td>0.0</td>\n      <td>...</td>\n      <td>0.0</td>\n      <td>0.0</td>\n      <td>0.0</td>\n      <td>0.0</td>\n      <td>0.0</td>\n      <td>1.0</td>\n      <td>1.0</td>\n      <td>0.0</td>\n      <td>0.0</td>\n      <td>0.0</td>\n    </tr>\n    <tr>\n      <th>3</th>\n      <td>AE</td>\n      <td>2008</td>\n      <td>50.0</td>\n      <td>0.0</td>\n      <td>0.0</td>\n      <td>6.0</td>\n      <td>1.0</td>\n      <td>7.0</td>\n      <td>5.0</td>\n      <td>3.0</td>\n      <td>...</td>\n      <td>0.0</td>\n      <td>0.0</td>\n      <td>0.0</td>\n      <td>10.0</td>\n      <td>4.0</td>\n      <td>1.0</td>\n      <td>1.0</td>\n      <td>3.0</td>\n      <td>3.0</td>\n      <td>0.0</td>\n    </tr>\n    <tr>\n      <th>4</th>\n      <td>AL</td>\n      <td>2005</td>\n      <td>196.0</td>\n      <td>0.0</td>\n      <td>0.0</td>\n      <td>26.0</td>\n      <td>21.0</td>\n      <td>16.0</td>\n      <td>31.0</td>\n      <td>20.0</td>\n      <td>...</td>\n      <td>0.0</td>\n      <td>0.0</td>\n      <td>0.0</td>\n      <td>3.0</td>\n      <td>9.0</td>\n      <td>5.0</td>\n      <td>5.0</td>\n      <td>5.0</td>\n      <td>18.0</td>\n      <td>0.0</td>\n    </tr>\n  </tbody>\n</table>\n<p>5 rows × 21 columns</p>\n</div>"
     },
     "execution_count": 42,
     "metadata": {},
     "output_type": "execute_result"
    }
   ],
   "source": [
    "df.drop('new_sp_m014', axis=1, inplace=True)\n",
    "df.drop('new_sp_f014', axis=1, inplace=True)\n",
    "df.head()"
   ],
   "metadata": {
    "collapsed": false,
    "pycharm": {
     "name": "#%%\n"
    }
   }
  },
  {
   "cell_type": "code",
   "execution_count": 43,
   "outputs": [
    {
     "data": {
      "text/plain": "   year  new_sp  new_sp_m04  new_sp_m514  new_sp_m1524  new_sp_m2534  \\\n0  2005     5.0         0.0          0.0           0.0           1.0   \n1  2006     8.0         0.0          0.0           1.0           1.0   \n2  2008     3.0         0.0          0.0           0.0           0.0   \n3  2008    50.0         0.0          0.0           6.0           1.0   \n4  2005   196.0         0.0          0.0          26.0          21.0   \n\n   new_sp_m3544  new_sp_m4554  new_sp_m5564  new_sp_m65  new_sp_mu  \\\n0           1.0           0.0           0.0         0.0        0.0   \n1           2.0           0.0           1.0         1.0        0.0   \n2           0.0           1.0           0.0         0.0        0.0   \n3           7.0           5.0           3.0         6.0        0.0   \n4          16.0          31.0          20.0        37.0        0.0   \n\n   new_sp_f04  new_sp_f514  new_sp_f1524  new_sp_f2534  new_sp_f3544  \\\n0         0.0          0.0           1.0           1.0           1.0   \n1         0.0          0.0           0.0           1.0           0.0   \n2         0.0          0.0           0.0           0.0           1.0   \n3         0.0          0.0          10.0           4.0           1.0   \n4         0.0          0.0           3.0           9.0           5.0   \n\n   new_sp_f4554  new_sp_f5564  new_sp_f65  new_sp_fu  \n0           0.0           0.0         0.0        0.0  \n1           1.0           0.0         0.0        0.0  \n2           1.0           0.0         0.0        0.0  \n3           1.0           3.0         3.0        0.0  \n4           5.0           5.0        18.0        0.0  ",
      "text/html": "<div>\n<style scoped>\n    .dataframe tbody tr th:only-of-type {\n        vertical-align: middle;\n    }\n\n    .dataframe tbody tr th {\n        vertical-align: top;\n    }\n\n    .dataframe thead th {\n        text-align: right;\n    }\n</style>\n<table border=\"1\" class=\"dataframe\">\n  <thead>\n    <tr style=\"text-align: right;\">\n      <th></th>\n      <th>year</th>\n      <th>new_sp</th>\n      <th>new_sp_m04</th>\n      <th>new_sp_m514</th>\n      <th>new_sp_m1524</th>\n      <th>new_sp_m2534</th>\n      <th>new_sp_m3544</th>\n      <th>new_sp_m4554</th>\n      <th>new_sp_m5564</th>\n      <th>new_sp_m65</th>\n      <th>new_sp_mu</th>\n      <th>new_sp_f04</th>\n      <th>new_sp_f514</th>\n      <th>new_sp_f1524</th>\n      <th>new_sp_f2534</th>\n      <th>new_sp_f3544</th>\n      <th>new_sp_f4554</th>\n      <th>new_sp_f5564</th>\n      <th>new_sp_f65</th>\n      <th>new_sp_fu</th>\n    </tr>\n  </thead>\n  <tbody>\n    <tr>\n      <th>0</th>\n      <td>2005</td>\n      <td>5.0</td>\n      <td>0.0</td>\n      <td>0.0</td>\n      <td>0.0</td>\n      <td>1.0</td>\n      <td>1.0</td>\n      <td>0.0</td>\n      <td>0.0</td>\n      <td>0.0</td>\n      <td>0.0</td>\n      <td>0.0</td>\n      <td>0.0</td>\n      <td>1.0</td>\n      <td>1.0</td>\n      <td>1.0</td>\n      <td>0.0</td>\n      <td>0.0</td>\n      <td>0.0</td>\n      <td>0.0</td>\n    </tr>\n    <tr>\n      <th>1</th>\n      <td>2006</td>\n      <td>8.0</td>\n      <td>0.0</td>\n      <td>0.0</td>\n      <td>1.0</td>\n      <td>1.0</td>\n      <td>2.0</td>\n      <td>0.0</td>\n      <td>1.0</td>\n      <td>1.0</td>\n      <td>0.0</td>\n      <td>0.0</td>\n      <td>0.0</td>\n      <td>0.0</td>\n      <td>1.0</td>\n      <td>0.0</td>\n      <td>1.0</td>\n      <td>0.0</td>\n      <td>0.0</td>\n      <td>0.0</td>\n    </tr>\n    <tr>\n      <th>2</th>\n      <td>2008</td>\n      <td>3.0</td>\n      <td>0.0</td>\n      <td>0.0</td>\n      <td>0.0</td>\n      <td>0.0</td>\n      <td>0.0</td>\n      <td>1.0</td>\n      <td>0.0</td>\n      <td>0.0</td>\n      <td>0.0</td>\n      <td>0.0</td>\n      <td>0.0</td>\n      <td>0.0</td>\n      <td>0.0</td>\n      <td>1.0</td>\n      <td>1.0</td>\n      <td>0.0</td>\n      <td>0.0</td>\n      <td>0.0</td>\n    </tr>\n    <tr>\n      <th>3</th>\n      <td>2008</td>\n      <td>50.0</td>\n      <td>0.0</td>\n      <td>0.0</td>\n      <td>6.0</td>\n      <td>1.0</td>\n      <td>7.0</td>\n      <td>5.0</td>\n      <td>3.0</td>\n      <td>6.0</td>\n      <td>0.0</td>\n      <td>0.0</td>\n      <td>0.0</td>\n      <td>10.0</td>\n      <td>4.0</td>\n      <td>1.0</td>\n      <td>1.0</td>\n      <td>3.0</td>\n      <td>3.0</td>\n      <td>0.0</td>\n    </tr>\n    <tr>\n      <th>4</th>\n      <td>2005</td>\n      <td>196.0</td>\n      <td>0.0</td>\n      <td>0.0</td>\n      <td>26.0</td>\n      <td>21.0</td>\n      <td>16.0</td>\n      <td>31.0</td>\n      <td>20.0</td>\n      <td>37.0</td>\n      <td>0.0</td>\n      <td>0.0</td>\n      <td>0.0</td>\n      <td>3.0</td>\n      <td>9.0</td>\n      <td>5.0</td>\n      <td>5.0</td>\n      <td>5.0</td>\n      <td>18.0</td>\n      <td>0.0</td>\n    </tr>\n  </tbody>\n</table>\n</div>"
     },
     "execution_count": 43,
     "metadata": {},
     "output_type": "execute_result"
    }
   ],
   "source": [
    "df.drop('iso2', axis=1, inplace=True)\n",
    "df.head()"
   ],
   "metadata": {
    "collapsed": false,
    "pycharm": {
     "name": "#%%\n"
    }
   }
  },
  {
   "cell_type": "code",
   "execution_count": 58,
   "outputs": [
    {
     "data": {
      "text/plain": "        new_sp  new_sp_m04  new_sp_m514  new_sp_m1524  new_sp_m2534  \\\nyear                                                                  \n2005   55057.0        47.0        225.0        5280.0        7862.0   \n2006   40789.0        53.0        112.0        3843.0        5837.0   \n2007   53914.0        44.0        117.0        5879.0       10659.0   \n2008  699063.0      1002.0       5092.0       67242.0      107820.0   \n\n      new_sp_m3544  new_sp_m4554  new_sp_m5564  new_sp_m65  new_sp_mu  \\\nyear                                                                    \n2005        7882.0        7686.0        3986.0      3642.0       42.0   \n2006        6089.0        6061.0        3229.0      3226.0       30.0   \n2007       11116.0       10900.0        5065.0      4312.0       17.0   \n2008       93948.0       76711.0       46818.0     33248.0       54.0   \n\n      new_sp_f04  new_sp_f514  new_sp_f1524  new_sp_f2534  new_sp_f3544  \\\nyear                                                                      \n2005        34.0        345.0        3992.0        4341.0        2679.0   \n2006        41.0        169.0        2683.0        3055.0        1874.0   \n2007        22.0        226.0        4310.0        5170.0        3423.0   \n2008       808.0       6716.0       60639.0       75994.0       52396.0   \n\n      new_sp_f4554  new_sp_f5564  new_sp_f65  new_sp_fu  \nyear                                                     \n2005        1864.0        1088.0      2690.0       15.0  \n2006        1309.0         855.0      2274.0       17.0  \n2007        2388.0        1410.0      3191.0       12.0  \n2008       37114.0       22551.0     20606.0       16.0  ",
      "text/html": "<div>\n<style scoped>\n    .dataframe tbody tr th:only-of-type {\n        vertical-align: middle;\n    }\n\n    .dataframe tbody tr th {\n        vertical-align: top;\n    }\n\n    .dataframe thead th {\n        text-align: right;\n    }\n</style>\n<table border=\"1\" class=\"dataframe\">\n  <thead>\n    <tr style=\"text-align: right;\">\n      <th></th>\n      <th>new_sp</th>\n      <th>new_sp_m04</th>\n      <th>new_sp_m514</th>\n      <th>new_sp_m1524</th>\n      <th>new_sp_m2534</th>\n      <th>new_sp_m3544</th>\n      <th>new_sp_m4554</th>\n      <th>new_sp_m5564</th>\n      <th>new_sp_m65</th>\n      <th>new_sp_mu</th>\n      <th>new_sp_f04</th>\n      <th>new_sp_f514</th>\n      <th>new_sp_f1524</th>\n      <th>new_sp_f2534</th>\n      <th>new_sp_f3544</th>\n      <th>new_sp_f4554</th>\n      <th>new_sp_f5564</th>\n      <th>new_sp_f65</th>\n      <th>new_sp_fu</th>\n    </tr>\n    <tr>\n      <th>year</th>\n      <th></th>\n      <th></th>\n      <th></th>\n      <th></th>\n      <th></th>\n      <th></th>\n      <th></th>\n      <th></th>\n      <th></th>\n      <th></th>\n      <th></th>\n      <th></th>\n      <th></th>\n      <th></th>\n      <th></th>\n      <th></th>\n      <th></th>\n      <th></th>\n      <th></th>\n    </tr>\n  </thead>\n  <tbody>\n    <tr>\n      <th>2005</th>\n      <td>55057.0</td>\n      <td>47.0</td>\n      <td>225.0</td>\n      <td>5280.0</td>\n      <td>7862.0</td>\n      <td>7882.0</td>\n      <td>7686.0</td>\n      <td>3986.0</td>\n      <td>3642.0</td>\n      <td>42.0</td>\n      <td>34.0</td>\n      <td>345.0</td>\n      <td>3992.0</td>\n      <td>4341.0</td>\n      <td>2679.0</td>\n      <td>1864.0</td>\n      <td>1088.0</td>\n      <td>2690.0</td>\n      <td>15.0</td>\n    </tr>\n    <tr>\n      <th>2006</th>\n      <td>40789.0</td>\n      <td>53.0</td>\n      <td>112.0</td>\n      <td>3843.0</td>\n      <td>5837.0</td>\n      <td>6089.0</td>\n      <td>6061.0</td>\n      <td>3229.0</td>\n      <td>3226.0</td>\n      <td>30.0</td>\n      <td>41.0</td>\n      <td>169.0</td>\n      <td>2683.0</td>\n      <td>3055.0</td>\n      <td>1874.0</td>\n      <td>1309.0</td>\n      <td>855.0</td>\n      <td>2274.0</td>\n      <td>17.0</td>\n    </tr>\n    <tr>\n      <th>2007</th>\n      <td>53914.0</td>\n      <td>44.0</td>\n      <td>117.0</td>\n      <td>5879.0</td>\n      <td>10659.0</td>\n      <td>11116.0</td>\n      <td>10900.0</td>\n      <td>5065.0</td>\n      <td>4312.0</td>\n      <td>17.0</td>\n      <td>22.0</td>\n      <td>226.0</td>\n      <td>4310.0</td>\n      <td>5170.0</td>\n      <td>3423.0</td>\n      <td>2388.0</td>\n      <td>1410.0</td>\n      <td>3191.0</td>\n      <td>12.0</td>\n    </tr>\n    <tr>\n      <th>2008</th>\n      <td>699063.0</td>\n      <td>1002.0</td>\n      <td>5092.0</td>\n      <td>67242.0</td>\n      <td>107820.0</td>\n      <td>93948.0</td>\n      <td>76711.0</td>\n      <td>46818.0</td>\n      <td>33248.0</td>\n      <td>54.0</td>\n      <td>808.0</td>\n      <td>6716.0</td>\n      <td>60639.0</td>\n      <td>75994.0</td>\n      <td>52396.0</td>\n      <td>37114.0</td>\n      <td>22551.0</td>\n      <td>20606.0</td>\n      <td>16.0</td>\n    </tr>\n  </tbody>\n</table>\n</div>"
     },
     "execution_count": 58,
     "metadata": {},
     "output_type": "execute_result"
    }
   ],
   "source": [
    "df = df.groupby('year').sum()\n",
    "df.head()"
   ],
   "metadata": {
    "collapsed": false,
    "pycharm": {
     "name": "#%%\n"
    }
   }
  }
 ],
 "metadata": {
  "kernelspec": {
   "display_name": "Python 3",
   "language": "python",
   "name": "python3"
  },
  "language_info": {
   "codemirror_mode": {
    "name": "ipython",
    "version": 2
   },
   "file_extension": ".py",
   "mimetype": "text/x-python",
   "name": "python",
   "nbconvert_exporter": "python",
   "pygments_lexer": "ipython2",
   "version": "2.7.6"
  }
 },
 "nbformat": 4,
 "nbformat_minor": 0
}